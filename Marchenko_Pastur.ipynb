{
  "cells": [
    {
      "cell_type": "code",
      "execution_count": 2,
      "metadata": {
        "id": "gpUPzhetGcAS"
      },
      "outputs": [],
      "source": [
        "import numpy as np\n",
        "from scipy.linalg import svd\n",
        "import matplotlib.pyplot as plt\n",
        "from scipy.stats import ortho_group\n",
        "from scipy.sparse import csc_matrix, diags\n",
        "from scipy.sparse.linalg import svds"
      ]
    },
    {
      "cell_type": "markdown",
      "metadata": {
        "id": "u6bQoOwSm57v"
      },
      "source": [
        "We will demonstrate the result of Th.1. on Marchenko-Pastur distribution"
      ]
    },
    {
      "cell_type": "code",
      "execution_count": 3,
      "metadata": {
        "id": "S23Gnqp3HBB9"
      },
      "outputs": [],
      "source": [
        "n=10000       #Number of observations\n",
        "y1=0.6\n",
        "p=int(n*y1)   #Number of assets"
      ]
    },
    {
      "cell_type": "code",
      "execution_count": 4,
      "metadata": {
        "id": "wWZPbgGgGctm"
      },
      "outputs": [],
      "source": [
        "Z = np.random.randn(n,p)"
      ]
    },
    {
      "cell_type": "code",
      "execution_count": 5,
      "metadata": {
        "id": "-b9eoGMEHAeC"
      },
      "outputs": [],
      "source": [
        "W = (Z.transpose() @ Z) / n   #A sample correlation matrix for independent assets"
      ]
    },
    {
      "cell_type": "code",
      "execution_count": 6,
      "metadata": {
        "id": "AC8K3thfH3GS"
      },
      "outputs": [],
      "source": [
        "eigenvalues=np.linalg.eigvals(W)"
      ]
    },
    {
      "cell_type": "code",
      "execution_count": 7,
      "metadata": {
        "colab": {
          "base_uri": "https://localhost:8080/",
          "height": 730
        },
        "id": "DOWJWtpDIX5n",
        "outputId": "1d82b44a-5f68-4a59-a64f-f9ed7e663cd0"
      },
      "outputs": [
        {
          "output_type": "execute_result",
          "data": {
            "text/plain": [
              "(array([200., 236., 223., 211., 194., 183., 171., 162., 157., 148., 139.,\n",
              "        134., 129., 124., 121., 118., 111., 109., 103., 100., 100.,  95.,\n",
              "         94.,  91.,  87.,  86.,  83.,  81.,  80.,  76.,  74.,  75.,  70.,\n",
              "         70.,  69.,  66.,  65.,  65.,  63.,  59.,  59.,  57.,  57.,  55.,\n",
              "         54.,  51.,  51.,  49.,  49.,  47.,  47.,  44.,  42.,  45.,  41.,\n",
              "         39.,  39.,  39.,  37.,  34.,  36.,  32.,  31.,  31.,  30.,  29.,\n",
              "         28.,  25.,  25.,  23.,  23.,  20.,  20.,  19.,  16.,  15.,  13.,\n",
              "         11.,  11.,   4.]),\n",
              " array([0.05131648, 0.08995414, 0.1285918 , 0.16722945, 0.20586711,\n",
              "        0.24450477, 0.28314243, 0.32178008, 0.36041774, 0.3990554 ,\n",
              "        0.43769306, 0.47633071, 0.51496837, 0.55360603, 0.59224369,\n",
              "        0.63088134, 0.669519  , 0.70815666, 0.74679432, 0.78543197,\n",
              "        0.82406963, 0.86270729, 0.90134495, 0.9399826 , 0.97862026,\n",
              "        1.01725792, 1.05589558, 1.09453323, 1.13317089, 1.17180855,\n",
              "        1.21044621, 1.24908386, 1.28772152, 1.32635918, 1.36499684,\n",
              "        1.40363449, 1.44227215, 1.48090981, 1.51954747, 1.55818512,\n",
              "        1.59682278, 1.63546044, 1.6740981 , 1.71273575, 1.75137341,\n",
              "        1.79001107, 1.82864873, 1.86728638, 1.90592404, 1.9445617 ,\n",
              "        1.98319936, 2.02183701, 2.06047467, 2.09911233, 2.13774999,\n",
              "        2.17638764, 2.2150253 , 2.25366296, 2.29230062, 2.33093827,\n",
              "        2.36957593, 2.40821359, 2.44685125, 2.4854889 , 2.52412656,\n",
              "        2.56276422, 2.60140188, 2.64003954, 2.67867719, 2.71731485,\n",
              "        2.75595251, 2.79459017, 2.83322782, 2.87186548, 2.91050314,\n",
              "        2.9491408 , 2.98777845, 3.02641611, 3.06505377, 3.10369143,\n",
              "        3.14232908]),\n",
              " <a list of 80 Patch objects>)"
            ]
          },
          "metadata": {},
          "execution_count": 7
        },
        {
          "output_type": "display_data",
          "data": {
            "text/plain": [
              "<Figure size 432x288 with 1 Axes>"
            ],
            "image/png": "[encoded data removed]"
          },
          "metadata": {
            "needs_background": "light"
          }
        }
      ],
      "source": [
        "plt.hist(eigenvalues, 80, alpha=.8, edgecolor='red')"
      ]
    },
    {
      "cell_type": "markdown",
      "metadata": {
        "id": "ubaP-fyIsVjT"
      },
      "source": [
        "Now we plot eigenvalues for the case of one group of constantly correlated assets and demonstrate that these distributions coincide after multiplication by (1-correlation)"
      ]
    },
    {
      "cell_type": "code",
      "execution_count": 8,
      "metadata": {
        "colab": {
          "base_uri": "https://localhost:8080/"
        },
        "id": "uE6IkobrR8GL",
        "outputId": "338e9ed6-ebab-4fe2-fb3c-d698e5f8ffb9"
      },
      "outputs": [
        {
          "output_type": "stream",
          "name": "stdout",
          "text": [
            "[[1.  0.9 0.9 ... 0.9 0.9 0.9]\n",
            " [0.9 1.  0.9 ... 0.9 0.9 0.9]\n",
            " [0.9 0.9 1.  ... 0.9 0.9 0.9]\n",
            " ...\n",
            " [0.9 0.9 0.9 ... 1.  0.9 0.9]\n",
            " [0.9 0.9 0.9 ... 0.9 1.  0.9]\n",
            " [0.9 0.9 0.9 ... 0.9 0.9 1. ]]\n"
          ]
        }
      ],
      "source": [
        "rho1 = 0.9\n",
        "E= np.ones((p, p))\n",
        "b= (-np.sqrt(1 - rho1) - np.sqrt(1 + rho1 * (p-1))) / p\n",
        "C= np.sqrt(1 - rho1) * np.identity(p) + E * b            #Matrix C is a block-type sqrt(Sigma_rho)\n",
        "print(C @ C)"
      ]
    },
    {
      "cell_type": "code",
      "execution_count": 9,
      "metadata": {
        "id": "I_HEY2eiSsRq"
      },
      "outputs": [],
      "source": [
        "Wrho=C.transpose() @ W @ C        #Correlation matrix"
      ]
    },
    {
      "cell_type": "code",
      "execution_count": 10,
      "metadata": {
        "id": "dY3K7FU2S0al"
      },
      "outputs": [],
      "source": [
        "eigenvalues_rho = np.linalg.eigvals(Wrho)"
      ]
    },
    {
      "cell_type": "code",
      "execution_count": 11,
      "metadata": {
        "colab": {
          "base_uri": "https://localhost:8080/",
          "height": 730
        },
        "id": "1_txNeTtTftY",
        "outputId": "73a5596b-ce68-4b3b-97c7-b2a43c69763e"
      },
      "outputs": [
        {
          "output_type": "execute_result",
          "data": {
            "text/plain": [
              "(array([200., 236., 223., 210., 195., 182., 172., 162., 156., 148., 140.,\n",
              "        134., 128., 125., 121., 117., 111., 109., 103., 101.,  99.,  95.,\n",
              "         94.,  91.,  88.,  86.,  82.,  82.,  79.,  76.,  75.,  74.,  70.,\n",
              "         70.,  70.,  65.,  65.,  65.,  63.,  59.,  58.,  59.,  56.,  54.,\n",
              "         55.,  51.,  51.,  49.,  49.,  48.,  46.,  43.,  43.,  45.,  40.,\n",
              "         41.,  38.,  39.,  37.,  34.,  36.,  32.,  31.,  32.,  29.,  29.,\n",
              "         27.,  26.,  25.,  24.,  22.,  21.,  20.,  18.,  16.,  15.,  13.,\n",
              "         11.,  11.,   4.]),\n",
              " array([0.00513167, 0.00899491, 0.01285816, 0.0167214 , 0.02058465,\n",
              "        0.0244479 , 0.02831114, 0.03217439, 0.03603763, 0.03990088,\n",
              "        0.04376413, 0.04762737, 0.05149062, 0.05535386, 0.05921711,\n",
              "        0.06308036, 0.0669436 , 0.07080685, 0.07467009, 0.07853334,\n",
              "        0.08239659, 0.08625983, 0.09012308, 0.09398632, 0.09784957,\n",
              "        0.10171282, 0.10557606, 0.10943931, 0.11330255, 0.1171658 ,\n",
              "        0.12102905, 0.12489229, 0.12875554, 0.13261878, 0.13648203,\n",
              "        0.14034528, 0.14420852, 0.14807177, 0.15193502, 0.15579826,\n",
              "        0.15966151, 0.16352475, 0.167388  , 0.17125125, 0.17511449,\n",
              "        0.17897774, 0.18284098, 0.18670423, 0.19056748, 0.19443072,\n",
              "        0.19829397, 0.20215721, 0.20602046, 0.20988371, 0.21374695,\n",
              "        0.2176102 , 0.22147344, 0.22533669, 0.22919994, 0.23306318,\n",
              "        0.23692643, 0.24078967, 0.24465292, 0.24851617, 0.25237941,\n",
              "        0.25624266, 0.2601059 , 0.26396915, 0.2678324 , 0.27169564,\n",
              "        0.27555889, 0.27942213, 0.28328538, 0.28714863, 0.29101187,\n",
              "        0.29487512, 0.29873836, 0.30260161, 0.30646486, 0.3103281 ,\n",
              "        0.31419135]),\n",
              " <a list of 80 Patch objects>)"
            ]
          },
          "metadata": {},
          "execution_count": 11
        },
        {
          "output_type": "display_data",
          "data": {
            "text/plain": [
              "<Figure size 432x288 with 1 Axes>"
            ],
            "image/png": "[encoded data removed]"
          },
          "metadata": {
            "needs_background": "light"
          }
        }
      ],
      "source": [
        "plt.hist(eigenvalues_rho[1:], 80)"
      ]
    },
    {
      "cell_type": "code",
      "execution_count": 12,
      "metadata": {
        "colab": {
          "base_uri": "https://localhost:8080/",
          "height": 283
        },
        "id": "Poka1ETW8pIG",
        "outputId": "fb4aa758-7e8c-4635-e708-33e5bdf6415b"
      },
      "outputs": [
        {
          "output_type": "stream",
          "name": "stderr",
          "text": [
            "WARNING:matplotlib.legend:No handles with labels found to put in legend.\n"
          ]
        },
        {
          "output_type": "display_data",
          "data": {
            "text/plain": [
              "<Figure size 432x288 with 1 Axes>"
            ],
            "image/png": "[encoded data removed]"
          },
          "metadata": {
            "needs_background": "light"
          }
        }
      ],
      "source": [
        "plt.hist( (1-rho1) * eigenvalues, 80, alpha=.8, edgecolor='red')\n",
        "plt.hist(eigenvalues_rho[1:], 80, alpha=.8, edgecolor='blue')\n",
        "plt.legend()\n",
        " \n",
        "# Showing the plot using plt.show()\n",
        "plt.show()"
      ]
    },
    {
      "cell_type": "markdown",
      "metadata": {
        "id": "DlOX4-cAEN60"
      },
      "source": [
        "We see that the highest eigenvalue has asymptotic $y*rho*n$\n",
        "\n",
        "---\n",
        "\n"
      ]
    },
    {
      "cell_type": "code",
      "execution_count": 13,
      "metadata": {
        "colab": {
          "base_uri": "https://localhost:8080/"
        },
        "id": "ULl1XhS9DQRZ",
        "outputId": "8ffcc3a6-2dea-4c27-8f09-2476db614868"
      },
      "outputs": [
        {
          "output_type": "stream",
          "name": "stdout",
          "text": [
            "Check first eigenvalues asumptotic: 0.5455710355439249 0.5455710355439248\n"
          ]
        }
      ],
      "source": [
        "u2, s2, vT2 = svds(Z @ C / np.sqrt(n), k=1)\n",
        "print('Check first eigenvalues asumptotic:',  eigenvalues_rho[0] / n, s2[0]**2 / n)"
      ]
    },
    {
      "cell_type": "markdown",
      "metadata": {
        "id": "_Zal_sZnEbA8"
      },
      "source": [
        "Now we suppose that there are 2 blocks: 30% corresponds to $\\rho=0.7$ and 70% corresponds to $\\rho=0$\n",
        "(We will demonstrate results of Th.2 now)"
      ]
    },
    {
      "cell_type": "code",
      "execution_count": 14,
      "metadata": {
        "colab": {
          "base_uri": "https://localhost:8080/"
        },
        "id": "QmjyeIkywYlp",
        "outputId": "ac370801-bb15-428e-b205-5037e49e5257"
      },
      "outputs": [
        {
          "output_type": "stream",
          "name": "stdout",
          "text": [
            "[[1.  0.9 0.9 ... 0.9 0.9 0.9]\n",
            " [0.9 1.  0.9 ... 0.9 0.9 0.9]\n",
            " [0.9 0.9 1.  ... 0.9 0.9 0.9]\n",
            " ...\n",
            " [0.9 0.9 0.9 ... 1.  0.9 0.9]\n",
            " [0.9 0.9 0.9 ... 0.9 1.  0.9]\n",
            " [0.9 0.9 0.9 ... 0.9 0.9 1. ]]\n"
          ]
        }
      ],
      "source": [
        "block_coeff = 0.7\n",
        "n1 = int(block_coeff * p) # Number of assets in the first block\n",
        "y1 = n1 / n\n",
        "E_block = np.ones((n1, n1))\n",
        "b_block = (-np.sqrt(1 - rho1) - np.sqrt(1 + rho1 * (n1-1))) / n1\n",
        "C_block = np.sqrt(1 - rho1) * np.identity(n1) + E_block * b_block\n",
        "print(C_block @ C_block)\n",
        "\n"
      ]
    },
    {
      "cell_type": "code",
      "execution_count": 15,
      "metadata": {
        "colab": {
          "base_uri": "https://localhost:8080/"
        },
        "id": "Pn0lYB-3fHgY",
        "outputId": "c3c169fb-cee6-4ebc-a9e8-a4046594a965"
      },
      "outputs": [
        {
          "output_type": "stream",
          "name": "stdout",
          "text": [
            "[[1.  0.9 0.9 ... 0.  0.  0. ]\n",
            " [0.9 1.  0.9 ... 0.  0.  0. ]\n",
            " [0.9 0.9 1.  ... 0.  0.  0. ]\n",
            " ...\n",
            " [0.  0.  0.  ... 1.  0.7 0.7]\n",
            " [0.  0.  0.  ... 0.7 1.  0.7]\n",
            " [0.  0.  0.  ... 0.7 0.7 1. ]]\n"
          ]
        }
      ],
      "source": [
        "rho2 = 0.7\n",
        "n2 = p - n1    #number of assets in the second block\n",
        "E2_block = np.ones((n2, n2))\n",
        "b2_block = (-np.sqrt(1 - rho2) - np.sqrt(1 + rho2*(n2 - 1))) / n2\n",
        "C2_block = np.sqrt(1 - rho2) * np.identity(n2) + E2_block * b2_block\n",
        "\n",
        "B=np.identity(p)              \n",
        "for i in range(n1):\n",
        "  for j in range(n1):\n",
        "    B[i][j] = C_block[i][j]\n",
        "for i in range(n2):\n",
        "  for j in range(n2):\n",
        "    B[i + n1][j + n1] = C2_block[i][j]\n",
        "print(B @ B) # Check that B = SquareRoot(Sigma)\n"
      ]
    },
    {
      "cell_type": "code",
      "execution_count": 16,
      "metadata": {
        "colab": {
          "base_uri": "https://localhost:8080/"
        },
        "id": "09DV0QJ8pzsk",
        "outputId": "ff614cfa-36f2-41e7-cb3a-2471a79ccfc3"
      },
      "outputs": [
        {
          "output_type": "stream",
          "name": "stdout",
          "text": [
            "[[1. 1. 1. ... 0. 0. 0.]\n",
            " [1. 1. 1. ... 0. 0. 0.]\n",
            " [1. 1. 1. ... 0. 0. 0.]\n",
            " ...\n",
            " [0. 0. 0. ... 0. 0. 0.]\n",
            " [0. 0. 0. ... 0. 0. 0.]\n",
            " [0. 0. 0. ... 0. 0. 0.]]\n"
          ]
        }
      ],
      "source": [
        "E1 = np.zeros((n,1))\n",
        "E2 = np.zeros((n,1))\n",
        "for i in range(n1):\n",
        "  E1[i] =1\n",
        "for i in range(n2):\n",
        "  E2[n1 + i] = 1\n",
        "BM =  E1 @ E1.transpose()   \n",
        "print(BM)"
      ]
    },
    {
      "cell_type": "markdown",
      "metadata": {
        "id": "d67s4V7NtaOr"
      },
      "source": [
        "Construct matrix $X_2$ that contains squared variables"
      ]
    },
    {
      "cell_type": "code",
      "execution_count": 17,
      "metadata": {
        "id": "oCULUxz_Few4"
      },
      "outputs": [],
      "source": [
        "X = Z @ B\n",
        "X2 = X * X - 1\n"
      ]
    },
    {
      "cell_type": "code",
      "execution_count": 18,
      "metadata": {
        "id": "j5DQvMlNh32s"
      },
      "outputs": [],
      "source": [
        "ub, lambda1, vb = svds(X / np.sqrt(n), k=2)\n",
        "ub2, lambda2, vb2 = svds(X2 / np.sqrt(n), k=2)"
      ]
    },
    {
      "cell_type": "code",
      "execution_count": 19,
      "metadata": {
        "colab": {
          "base_uri": "https://localhost:8080/"
        },
        "id": "b2OJD76jRfcN",
        "outputId": "e175999a-8418-43d8-ac21-a63fbd186f25"
      },
      "outputs": [
        {
          "output_type": "stream",
          "name": "stdout",
          "text": [
            "Estimated values of rho 0.7112046132658666 0.9225873459876154\n",
            "true values of rho 0.9 0.7\n"
          ]
        }
      ],
      "source": [
        "rho_estim0 = lambda2[0]**2 / lambda1[0]**2 / 2\n",
        "rho_estim1 = lambda2[1]**2 / lambda1[1]**2 / 2\n",
        "print('Estimated values of rho', rho_estim0, rho_estim1)\n",
        "print('true values of rho', rho1, rho2)"
      ]
    },
    {
      "cell_type": "code",
      "execution_count": 20,
      "metadata": {
        "colab": {
          "base_uri": "https://localhost:8080/"
        },
        "id": "YqEAkeCKSTTe",
        "outputId": "ed6c4c76-3854-48bb-b51f-ce3bb9b57f47"
      },
      "outputs": [
        {
          "output_type": "stream",
          "name": "stdout",
          "text": [
            "Estimated value of the block size 1762.2132496145566 4067.30554426782\n"
          ]
        }
      ],
      "source": [
        "print('Estimated value of the block size', lambda1[0]**2 / rho_estim0, lambda1[1]**2 / rho_estim1)"
      ]
    },
    {
      "cell_type": "code",
      "execution_count": 21,
      "metadata": {
        "colab": {
          "base_uri": "https://localhost:8080/"
        },
        "id": "ElRjUXBOxt4m",
        "outputId": "6181e657-4dd2-4ffd-a6a8-95e7ef06d3dc"
      },
      "outputs": [
        {
          "output_type": "stream",
          "name": "stdout",
          "text": [
            "original block sizes 4200 1800\n"
          ]
        }
      ],
      "source": [
        "print('original block sizes', n1, n2)"
      ]
    },
    {
      "cell_type": "markdown",
      "metadata": {
        "id": "GicEneWIdqj2"
      },
      "source": [
        "Case of nonttrivial Interblock interaction"
      ]
    },
    {
      "cell_type": "code",
      "execution_count": 22,
      "metadata": {
        "id": "zJ9wu9WZfNS0"
      },
      "outputs": [],
      "source": [
        "gamma=0.35\n"
      ]
    },
    {
      "cell_type": "code",
      "execution_count": 23,
      "metadata": {
        "colab": {
          "base_uri": "https://localhost:8080/"
        },
        "id": "XqRH8Y9pfQmS",
        "outputId": "9167676e-2c74-448d-f3e5-037287de25e8"
      },
      "outputs": [
        {
          "output_type": "stream",
          "name": "stdout",
          "text": [
            "[[1.   0.9  0.9  ... 0.35 0.35 0.35]\n",
            " [0.9  1.   0.9  ... 0.35 0.35 0.35]\n",
            " [0.9  0.9  1.   ... 0.35 0.35 0.35]\n",
            " ...\n",
            " [0.35 0.35 0.35 ... 1.   0.7  0.7 ]\n",
            " [0.35 0.35 0.35 ... 0.7  1.   0.7 ]\n",
            " [0.35 0.35 0.35 ... 0.7  0.7  1.  ]]\n"
          ]
        }
      ],
      "source": [
        "B2 = B @ B\n",
        "for i in range(n1):\n",
        "  for j in range(n2):\n",
        "    B2[i][j+n1] = gamma\n",
        "    B2[j+n1][i] = gamma\n",
        "\n",
        "B = np.linalg.cholesky(B2)\n",
        "print(B @ B.transpose())"
      ]
    },
    {
      "cell_type": "markdown",
      "metadata": {
        "id": "QZl-rnQrdxpl"
      },
      "source": [
        "Plot graph (method W3):"
      ]
    },
    {
      "cell_type": "code",
      "execution_count": null,
      "metadata": {
        "colab": {
          "base_uri": "https://localhost:8080/"
        },
        "id": "0paayBaCYyhY",
        "outputId": "2a127ae7-bc29-479a-9afa-a79d8a36f72d"
      },
      "outputs": [
        {
          "output_type": "stream",
          "name": "stdout",
          "text": [
            "0.8965883473922618 0.7029050937972274 0.3096971307250086 0.43077073371687064 0.16016013288989275\n",
            "0.877948950937223 0.733577585296137 -0.306997497908684 0.4529287475936682 0.15517653320441838\n"
          ]
        }
      ],
      "source": [
        "list_rhos11 = []\n",
        "list_rhos22 = []\n",
        "list_rhos12 = []\n",
        "list_y1 = []\n",
        "list_y2 = []\n",
        "plot_size = 100\n",
        "for i in range (plot_size):\n",
        "  Z = np.random.randn(n,p)\n",
        "  X = Z @ B.transpose()\n",
        "  X3 = X * X * X - 3 * X \n",
        "  u3, s3, v3 = svds(X3 / np.sqrt(n), k=2)\n",
        "  rho1y1=(X @ v3[1]).transpose() @ (X @ v3[1])/n/n\n",
        "  rho2y2=(X @ v3[0]).transpose() @ (X @ v3[0])/n/n\n",
        "  rho12sqrty1sqrty2=(X @ v3[1]).transpose() @ (X @ v3[0])/n/n\n",
        "  rho1_estimated=(s3[1]**2 / n / rho1y1 / 6)**0.5\n",
        "  rho2_estimated=(s3[0]**2 / n / rho2y2 / 6)**0.5\n",
        "  y1_estimated= rho1y1 / rho1_estimated\n",
        "  y2_estimated= rho2y2 / rho2_estimated\n",
        "  rho12_estimated = rho12sqrty1sqrty2 / np.sqrt(y1_estimated * y2_estimated)\n",
        "  list_rhos11.append(rho1_estimated)\n",
        "  list_rhos22.append(rho2_estimated)\n",
        "  list_rhos12.append(rho12_estimated)\n",
        "  list_y1.append(y1_estimated)\n",
        "  list_y2.append(y2_estimated)\n",
        "  print(rho1_estimated,rho2_estimated, rho12_estimated, y1_estimated, y2_estimated)\n"
      ]
    },
    {
      "cell_type": "code",
      "execution_count": 25,
      "metadata": {
        "colab": {
          "base_uri": "https://localhost:8080/"
        },
        "id": "LTaWz5inEa8F",
        "outputId": "518b165d-b1c4-4284-e703-af8ffdd996d8"
      },
      "outputs": [
        {
          "output_type": "stream",
          "name": "stdout",
          "text": [
            "mean (measured vs theor) 0.8956144274822061 0.9\n",
            "std 0.04010414001406229\n",
            "mean (measured vs theor) 0.7230035777194975 0.7\n",
            "std 0.03418142934177644\n",
            "mean (measured vs theor) 0.31737834493103434 0.35\n",
            "std 0.014423291182005167\n",
            "mean (measured vs theor) 0.4306419412388134 0.42\n",
            "std 0.018651760871337273\n",
            "mean (measured vs theor) 0.1622395899818067 0.18\n",
            "std 0.00901669857571519\n"
          ]
        }
      ],
      "source": [
        "yy=np.ones(plot_size)\n",
        "print('mean (measured vs theor)',np.mean(list_rhos11), rho1)\n",
        "print('std',np.std(list_rhos11))\n",
        "print('mean (measured vs theor)',np.mean(list_rhos22), rho2)\n",
        "print('std',np.std(list_rhos22))\n",
        "print('mean (measured vs theor)',np.mean(np.abs(list_rhos12)), gamma)\n",
        "print('std',np.std(np.abs(list_rhos12)))\n",
        "print('mean (measured vs theor)',np.mean(list_y1), y1)\n",
        "print('std',np.std(list_y1))\n",
        "print('mean (measured vs theor)',np.mean(list_y2), n2/n)\n",
        "print('std',np.std(list_y2))"
      ]
    },
    {
      "cell_type": "markdown",
      "metadata": {
        "id": "uVZqEnH2d7CI"
      },
      "source": [
        "Plot graph (method W4):"
      ]
    },
    {
      "cell_type": "code",
      "execution_count": 26,
      "metadata": {
        "colab": {
          "base_uri": "https://localhost:8080/"
        },
        "id": "evd5_yDADxRH",
        "outputId": "14ae3074-2a3d-41f8-b233-b8a5914292b2"
      },
      "outputs": [
        {
          "output_type": "stream",
          "name": "stdout",
          "text": [
            "1.009322610652603 0.7091176213443471 0.3719329010336329 0.37296460635472223 0.17242770187006387\n",
            "0.7879592960686774 0.8317390500250851 -0.3442892267715416 0.4830953176055037 0.14104076315901048\n",
            "0.8912732216846004 0.8090750675908478 0.3035890851683785 0.4374872158489344 0.13613479871330655\n",
            "0.8301907523892242 0.6716919934092611 0.29586401887294017 0.4604228519934055 0.17245457437534334\n",
            "0.8161360821832597 0.6912012621155229 -0.3353433923876239 0.4601532210498563 0.17843034829613588\n",
            "0.8865005197232482 0.7308760367375464 -0.34692728765928016 0.4228605576833646 0.16594475066223474\n",
            "0.9489130389493802 0.6485762940756832 -0.34217584742690976 0.4014667813007533 0.19005493537528353\n",
            "0.9057724707126263 0.7319933325011736 -0.3154877247390281 0.42430898595086514 0.157445035501393\n",
            "0.911744011177192 0.726989094317098 -0.30053801982989664 0.4213993790234242 0.15315532917983873\n",
            "0.8048717466765224 0.7649457341325318 0.32064804736154773 0.47233171686340225 0.15298319518304052\n",
            "0.8404061597201935 0.7430761102907555 -0.30864502435322866 0.4522887743802557 0.1516099584319383\n",
            "0.8170691866009615 0.6773555392680989 0.3054455034774319 0.4663794795431545 0.17131428056391887\n",
            "0.8842903158338274 0.7527964815164394 0.33222715305160555 0.4350717158478014 0.15396412886978292\n",
            "0.8928240834775781 0.6835786930906791 0.33503832705439573 0.42134464138241656 0.1727690217354012\n",
            "0.9396853986294037 0.6427088528876649 -0.32950030622307735 0.3941969907944762 0.1867302821944182\n",
            "0.9345647371580914 0.7074183600985098 -0.3496497897923005 0.41527663405197707 0.16765119499593506\n",
            "0.8780373601431212 0.7416261930274624 -0.3453941334688404 0.4257391371581561 0.1610031071124187\n",
            "0.9570842332466976 0.7775472297398679 -0.37961393847258995 0.39344862363465266 0.15632267460423838\n",
            "0.9340510275602018 0.7029519171381069 -0.3517468130871164 0.4045897097110851 0.17449079718005336\n",
            "0.923646375187036 0.6912614124428534 -0.34548483227722687 0.4048106721254064 0.1764279893781908\n",
            "0.9532219379237619 0.6906023538885631 0.30889416737597797 0.41148139942413564 0.16374683163683515\n",
            "0.9875148817931446 0.7257569744510444 0.325085085397452 0.39134487193714756 0.1535695725298278\n",
            "0.8525350092881399 0.6871786042432768 -0.31845063363495946 0.4473761305862168 0.17472728780043106\n",
            "0.8407956739521247 0.8838888351071912 0.2664928079317469 0.46177590165626353 0.11322655949306158\n",
            "0.8499408527575426 0.7271272721295069 0.3355001975584362 0.442171839205203 0.16143041596283467\n",
            "1.0188459719237297 0.6640500927569174 0.3575396239733454 0.3701741228668103 0.17923575444434045\n",
            "0.9014027815501884 0.707832523099148 0.3458224984423908 0.4199199284265873 0.17455960372262494\n",
            "0.9636300181364352 0.7083396984699551 -0.3628536141611157 0.3860063315564382 0.17541128349743557\n",
            "0.8394299640880525 0.6926414791794681 -0.3061221822018105 0.45441186695354563 0.1680122243122933\n",
            "0.7689315666889744 0.7819861938653384 -0.33287946133870505 0.4913874659861384 0.15413453169275676\n",
            "0.890730698434096 0.6318860203617052 -0.32447733354088837 0.4249488586296766 0.19121879186457244\n",
            "0.9822998374385703 0.7454588535942483 0.36468614658327386 0.37299158001306804 0.15923868324725204\n",
            "0.9957205798236137 0.7616234974037046 -0.38546410144665333 0.37113643402256224 0.15987489567661134\n",
            "0.9552859396535883 0.6584104447861824 -0.3371618274880599 0.39336711336702007 0.1840330503947197\n",
            "0.878632915550091 0.7945596844440186 0.35059266824399815 0.42808498748764384 0.14740268427618394\n",
            "0.8612304748789559 0.7158301309065779 -0.32964523582805366 0.43832771807799503 0.16470175894318212\n",
            "0.8529083615743962 0.7869963225584671 0.3489808191812646 0.4444490771939167 0.14394711403169086\n",
            "0.976071846166722 0.6004598184902857 -0.3376286519615023 0.386267588511031 0.19617197256174884\n",
            "0.8043528304830961 0.7161203605585508 -0.31704871963442954 0.4722873637105155 0.16747012844488124\n",
            "0.9304414394021546 0.6302716281771953 0.32820392001904497 0.40680957895349107 0.1955322729035351\n",
            "0.807190390765685 0.7747778003303 0.3259529888732198 0.4885870022871847 0.1503504454935036\n",
            "0.8757827661230794 0.7250633957449155 0.33154559795819444 0.4289334286844456 0.15788818088115117\n",
            "0.8518666080759892 0.7859528730860444 0.31063865035696014 0.43251360649317505 0.13290232597444857\n",
            "0.9394426246212874 0.672037648921733 0.33964466447304514 0.3900641466662652 0.17466800351877207\n",
            "0.895251833600793 0.6492249373461378 -0.3173779018154766 0.40802854575789316 0.18504132126864217\n",
            "0.8585594544140643 0.6745972322996919 0.31800810542390107 0.42539048685930037 0.17556368825631802\n",
            "0.9159330878979207 0.8443641052577058 -0.35315732861441246 0.41589366708008535 0.12979421034006877\n",
            "0.8753187009993285 0.6974605547815925 -0.3420691177000632 0.4313007815331537 0.1728121735867784\n",
            "0.8684875165314957 0.745409103403175 0.3242182785700031 0.433654534735927 0.15252750227815673\n",
            "0.9243676758879846 0.6435412790927815 -0.327529536356472 0.4076850848862373 0.1833882483144942\n",
            "0.8356013487982391 0.7678116903017316 -0.32662040658196406 0.44762194954400125 0.15057876583198138\n",
            "0.7570540069725569 0.7155677744498328 0.30716190015322015 0.49518307867532924 0.16556373089609464\n",
            "0.8431090216240518 0.627167035588545 0.3148433961720247 0.4541445697492843 0.19754564740473787\n",
            "0.9550538854216484 0.6884191872731585 0.35438341570548965 0.3890232347385835 0.1759975328810066\n",
            "0.839402442010201 0.6614179482069482 -0.32916376852659135 0.442007956180306 0.18332832020290002\n",
            "0.8969605416347594 0.7037641784800132 -0.34000070331739446 0.4304469919686962 0.1711955518334605\n",
            "0.8807650536946198 0.733379559466006 0.34075780631713853 0.4200607584866201 0.16440301958584774\n",
            "0.9414871252072736 0.6949325980831985 0.3572240585442303 0.40091234429529415 0.17569994018531646\n",
            "0.9494871634128323 0.7609921915204692 0.3693225075606599 0.3916342944393494 0.16081096964454294\n",
            "0.8576415271018251 0.7452010486516728 0.34210521770244856 0.44438410561871095 0.16384880106738103\n",
            "0.9374459759116571 0.7436581252633767 -0.35743249723695447 0.40209105420522234 0.16411247500629655\n",
            "0.9184769185330056 0.6990423477784488 0.3605789170087848 0.40585548435158947 0.1724205101956544\n",
            "0.8021698761237466 0.8031926678196335 -0.36026132717217746 0.4697480242701473 0.14583627143675182\n",
            "0.8322791722600632 0.8593508344144418 0.3791633087712947 0.4512271370503692 0.14218422671507813\n",
            "0.9250076623912564 0.7276353829410602 0.34776986407519084 0.406002835463077 0.16621143307596206\n",
            "0.8554613264023512 0.6849014489722169 -0.3018047389494297 0.4431202107316118 0.17157896743966955\n",
            "0.8699682003428171 0.6536885623605985 -0.31525597153125307 0.4325587882955131 0.18538915992191857\n",
            "0.8653605237948894 0.6502525129165255 0.3250054974414903 0.43004885664498993 0.1863682576950139\n",
            "0.8546486207059576 0.728265988605581 0.3251535933895381 0.44451200361277926 0.1597010245445312\n",
            "0.8838693701745823 0.7170510360107506 -0.32760288140634003 0.44056173517269903 0.16396762114678337\n",
            "0.933676719608644 0.6885594633916396 0.3404063359297989 0.39881983718249786 0.1754207369314088\n",
            "0.882479093257893 0.7635035544402171 -0.34657078942050273 0.426990844820938 0.1574699368265764\n",
            "0.9855683675961201 0.8272174979860768 -0.3845377846699055 0.37883143501083977 0.1382422167992434\n",
            "0.8771268165471051 0.676339499400172 0.32171093581268045 0.41998471411410765 0.17755904242081558\n",
            "0.9281789598698321 0.7003914219181978 0.3344833454666413 0.42046411928319555 0.16829819974569432\n",
            "0.973127137258666 0.7270409842634974 0.35403369953144453 0.39015038989650813 0.16252058080050472\n",
            "0.9174219129981119 0.7158310163627042 -0.34282855106581167 0.4234949297929189 0.16466947786687375\n",
            "0.8850228587091619 0.7600090760660554 0.335129049500884 0.4352213329338299 0.15215594834012672\n",
            "0.9563426441622889 0.7082822950759249 -0.3576721362254651 0.4017509113280629 0.17031308103860873\n",
            "0.8587260798837809 0.7800066605056097 0.3660867280487604 0.43635445994728517 0.1617422024044888\n",
            "1.0451167233604006 0.6603710090522801 -0.3524002239746138 0.36109213990754147 0.17498794807451065\n",
            "0.9166720317867264 0.8620521898826585 0.3996612988677372 0.4106319605513461 0.13819832554312247\n",
            "0.8889324626066252 0.7071730870183304 -0.34674134605120766 0.4193856648970355 0.17147966053474079\n",
            "0.8380467098945509 0.8360448981508604 -0.3578967750784028 0.4437348364524193 0.12778568323729778\n",
            "0.8042156744716032 0.7345070630311423 0.30008316924894207 0.48598720825334935 0.1548894468871764\n",
            "0.9627518514002853 0.703848699946114 0.37074705778697875 0.39557445545055914 0.17604741261257728\n",
            "0.8493314800752296 0.6780136908618698 -0.3193032477354256 0.45531502176781946 0.17993702987759777\n",
            "0.8412870584448212 0.8423840788298904 -0.37091678716564935 0.44281934093561953 0.1385267555778248\n",
            "0.8988080756398734 0.8130589763854518 0.32552233665318836 0.4389515813194663 0.13539434372612533\n",
            "0.792365436321936 0.6880334398621931 0.3133148852539239 0.4762248416699021 0.1765219792542704\n",
            "0.9207685182549097 0.6918919549170545 0.34813560692704476 0.4076891515746184 0.17568509075841188\n",
            "0.9247394421571546 0.7253589220259097 -0.34332562647751536 0.3987155332136928 0.1652727590421152\n",
            "0.8336462251380224 0.7352604477847346 -0.3437216121173375 0.44249233934067944 0.16333678466511684\n",
            "0.883185026751523 0.673054567754367 -0.32998160934975485 0.4271439590068066 0.1809472593696414\n",
            "1.204911325584857 0.7941234835752056 0.43943705453090737 0.302833386750866 0.15020671523241802\n",
            "0.851447220648371 0.7682159816938743 -0.34679036365098265 0.4465760856024984 0.15399701136705288\n",
            "1.0368128096552247 0.7310471785522639 -0.3662527981648659 0.35970217061292226 0.15874622600567226\n",
            "0.8369824645935187 0.8044763630901179 0.3435488676165626 0.459193773169121 0.13811324476137285\n",
            "0.8979203562344007 0.7411465806953582 0.3575919310267799 0.420996904068884 0.16652984400072607\n"
          ]
        }
      ],
      "source": [
        "list4_rhos11 = []\n",
        "list4_rhos22 = []\n",
        "list4_rhos12 = []\n",
        "list4_y1 = []\n",
        "list4_y2 = []\n",
        "plot_size4 = 100\n",
        "for i in range (plot_size4):\n",
        "  Z = np.random.randn(n,p)\n",
        "  X = Z @ B.transpose()\n",
        "  alpha4=-6\n",
        "  X4 = X * X * X * X + alpha4 * X * X - (3+alpha4) \n",
        "  u4, s4, v4 = svds(X4 / np.sqrt(n), k=2)\n",
        "\n",
        "  qrho1y1=(X @ v4[1]).transpose() @ (X @ v4[1])/n/n\n",
        "  qrho2y2=(X @ v4[0]).transpose() @ (X @ v4[0])/n/n\n",
        "  \n",
        "  qrho12sqrty1sqrty2=(X @ v4[1]).transpose() @ (X @ v4[0])/n/n\n",
        "  qrho1_estimated = (s4[1]**2/ n /qrho1y1 / 24)**(1./3)\n",
        "  qrho2_estimated = (s4[0]**2/ n /qrho2y2 / 24)**(1./3)\n",
        "  \n",
        "  qy1_estimated= qrho1y1 / qrho1_estimated\n",
        "  qy2_estimated= qrho2y2 / qrho2_estimated\n",
        "  qrho12_estimated = qrho12sqrty1sqrty2 / np.sqrt(qy1_estimated * qy2_estimated)\n",
        "  \n",
        "  list4_rhos11.append(qrho1_estimated)\n",
        "  list4_rhos22.append(qrho2_estimated)\n",
        "  list4_rhos12.append(qrho12_estimated)\n",
        "  list4_y1.append(qy1_estimated)\n",
        "  list4_y2.append(qy2_estimated)\n",
        "  print(qrho1_estimated,qrho2_estimated, qrho12_estimated, qy1_estimated, qy2_estimated)"
      ]
    },
    {
      "cell_type": "code",
      "execution_count": 27,
      "metadata": {
        "colab": {
          "base_uri": "https://localhost:8080/"
        },
        "id": "WRa0N2SkbrMp",
        "outputId": "5021694c-ff3c-4a0b-b6a9-362ffdb9b403"
      },
      "outputs": [
        {
          "output_type": "stream",
          "name": "stdout",
          "text": [
            "mean (measured vs theor) 0.8953258923505923 0.9\n",
            "std 0.06660497140746684\n",
            "mean (measured vs theor) 0.7259547135786252 0.7\n",
            "std 0.057254587329420535\n",
            "mean (measured vs theor) 0.3391119574614087 0.35\n",
            "std 0.024346520467535646\n",
            "mean (measured vs theor) 0.4243727445847522 0.42\n",
            "std 0.03207383695822456\n",
            "mean (measured vs theor) 0.16417458275235913 0.18\n",
            "std 0.016016665781981503\n"
          ]
        }
      ],
      "source": [
        "print('mean (measured vs theor)',np.mean(list4_rhos11), rho1)\n",
        "print('std',np.std(list4_rhos11))\n",
        "print('mean (measured vs theor)',np.mean(list4_rhos22), rho2)\n",
        "print('std',np.std(list4_rhos22))\n",
        "print('mean (measured vs theor)',np.mean(np.abs(list4_rhos12)), gamma)\n",
        "print('std',np.std(np.abs(list4_rhos12)))\n",
        "print('mean (measured vs theor)',np.mean(list4_y1), y1)\n",
        "print('std',np.std(list4_y1))\n",
        "print('mean (measured vs theor)',np.mean(list4_y2), n2/n)\n",
        "print('std',np.std(list4_y2))"
      ]
    }
  ],
  "metadata": {
    "colab": {
      "collapsed_sections": [],
      "provenance": []
    },
    "kernelspec": {
      "display_name": "Python 3",
      "name": "python3"
    },
    "language_info": {
      "name": "python"
    }
  },
  "nbformat": 4,
  "nbformat_minor": 0
}