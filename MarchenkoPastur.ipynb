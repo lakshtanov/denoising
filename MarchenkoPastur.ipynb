{
  "cells": [
    {
      "cell_type": "code",
      "execution_count": 1,
      "metadata": {
        "id": "gpUPzhetGcAS"
      },
      "outputs": [],
      "source": [
        "import numpy as np\n",
        "from scipy.linalg import svd\n",
        "import matplotlib.pyplot as plt\n",
        "from scipy.stats import ortho_group\n",
        "from scipy.sparse import csc_matrix, diags\n",
        "from scipy.sparse.linalg import svds"
      ]
    },
    {
      "cell_type": "markdown",
      "metadata": {
        "id": "u6bQoOwSm57v"
      },
      "source": [
        "We will demonstrate the result of Th.1. on Marchenko-Pastur distribution"
      ]
    },
    {
      "cell_type": "code",
      "execution_count": 2,
      "metadata": {
        "id": "S23Gnqp3HBB9"
      },
      "outputs": [],
      "source": [
        "n=10000       #Number of observations\n",
        "y1=0.6\n",
        "p=int(n*y1)   #Number of assets"
      ]
    },
    {
      "cell_type": "code",
      "execution_count": 3,
      "metadata": {
        "id": "wWZPbgGgGctm"
      },
      "outputs": [],
      "source": [
        "Z = np.random.randn(n,p)"
      ]
    },
    {
      "cell_type": "code",
      "execution_count": 4,
      "metadata": {
        "id": "-b9eoGMEHAeC"
      },
      "outputs": [],
      "source": [
        "W = (Z.transpose() @ Z) / n   #A sample correlation matrix for independent assets"
      ]
    },
    {
      "cell_type": "code",
      "execution_count": 5,
      "metadata": {
        "id": "AC8K3thfH3GS"
      },
      "outputs": [],
      "source": [
        "eigenvalues=np.linalg.eigvals(W)"
      ]
    },
    {
      "cell_type": "code",
      "execution_count": 6,
      "metadata": {
        "colab": {
          "base_uri": "https://localhost:8080/",
          "height": 730
        },
        "id": "DOWJWtpDIX5n",
        "outputId": "09ec71c7-aacb-4d11-9b82-32487f788203"
      },
      "outputs": [
        {
          "output_type": "execute_result",
          "data": {
            "text/plain": [
              "(array([197., 234., 224., 210., 198., 181., 171., 162., 155., 147., 141.,\n",
              "        135., 129., 125., 119., 115., 113., 108., 105., 100.,  99.,  95.,\n",
              "         92.,  92.,  87.,  86.,  84.,  80.,  80.,  77.,  76.,  75.,  71.,\n",
              "         70.,  66.,  66.,  66.,  64.,  61.,  60.,  59.,  59.,  56.,  54.,\n",
              "         54.,  52.,  51.,  48.,  50.,  47.,  45.,  46.,  44.,  43.,  42.,\n",
              "         39.,  39.,  37.,  37.,  35.,  35.,  32.,  34.,  30.,  30.,  29.,\n",
              "         28.,  26.,  25.,  24.,  21.,  22.,  20.,  18.,  17.,  14.,  14.,\n",
              "         13.,   8.,   7.]),\n",
              " array([0.05131004, 0.08985807, 0.12840611, 0.16695414, 0.20550218,\n",
              "        0.24405021, 0.28259825, 0.32114628, 0.35969432, 0.39824235,\n",
              "        0.43679039, 0.47533842, 0.51388646, 0.55243449, 0.59098253,\n",
              "        0.62953056, 0.6680786 , 0.70662663, 0.74517467, 0.7837227 ,\n",
              "        0.82227074, 0.86081877, 0.89936681, 0.93791484, 0.97646288,\n",
              "        1.01501091, 1.05355895, 1.09210698, 1.13065502, 1.16920305,\n",
              "        1.20775109, 1.24629912, 1.28484716, 1.32339519, 1.36194323,\n",
              "        1.40049126, 1.4390393 , 1.47758733, 1.51613537, 1.5546834 ,\n",
              "        1.59323144, 1.63177947, 1.67032751, 1.70887554, 1.74742358,\n",
              "        1.78597161, 1.82451965, 1.86306768, 1.90161572, 1.94016375,\n",
              "        1.97871179, 2.01725982, 2.05580786, 2.09435589, 2.13290393,\n",
              "        2.17145196, 2.21      , 2.24854803, 2.28709607, 2.3256441 ,\n",
              "        2.36419214, 2.40274017, 2.44128821, 2.47983624, 2.51838428,\n",
              "        2.55693231, 2.59548035, 2.63402838, 2.67257642, 2.71112445,\n",
              "        2.74967249, 2.78822052, 2.82676856, 2.86531659, 2.90386463,\n",
              "        2.94241266, 2.9809607 , 3.01950873, 3.05805677, 3.0966048 ,\n",
              "        3.13515284]),\n",
              " <a list of 80 Patch objects>)"
            ]
          },
          "metadata": {},
          "execution_count": 6
        },
        {
          "output_type": "display_data",
          "data": {
            "text/plain": [
              "<Figure size 432x288 with 1 Axes>"
            ],
            "image/png": "[encoded data removed]"
          },
          "metadata": {
            "needs_background": "light"
          }
        }
      ],
      "source": [
        "plt.hist(eigenvalues, 80, alpha=.8, edgecolor='red')"
      ]
    },
    {
      "cell_type": "markdown",
      "metadata": {
        "id": "ubaP-fyIsVjT"
      },
      "source": [
        "Now we plot eigenvalues for the case of one group of constantly correlated assets and demonstrate that these distributions coincide after multiplication by (1-correlation)"
      ]
    },
    {
      "cell_type": "code",
      "execution_count": 7,
      "metadata": {
        "colab": {
          "base_uri": "https://localhost:8080/"
        },
        "id": "uE6IkobrR8GL",
        "outputId": "d64ae8f8-ba48-4b50-edc6-5df7011f2bc9"
      },
      "outputs": [
        {
          "output_type": "stream",
          "name": "stdout",
          "text": [
            "[[1.  0.9 0.9 ... 0.9 0.9 0.9]\n",
            " [0.9 1.  0.9 ... 0.9 0.9 0.9]\n",
            " [0.9 0.9 1.  ... 0.9 0.9 0.9]\n",
            " ...\n",
            " [0.9 0.9 0.9 ... 1.  0.9 0.9]\n",
            " [0.9 0.9 0.9 ... 0.9 1.  0.9]\n",
            " [0.9 0.9 0.9 ... 0.9 0.9 1. ]]\n"
          ]
        }
      ],
      "source": [
        "rho1 = 0.9\n",
        "E= np.ones((p, p))\n",
        "b= (-np.sqrt(1 - rho1) - np.sqrt(1 + rho1 * (p-1))) / p\n",
        "C= np.sqrt(1 - rho1) * np.identity(p) + E * b            #Matrix C is a block-type sqrt(Sigma_rho)\n",
        "print(C @ C)"
      ]
    },
    {
      "cell_type": "code",
      "execution_count": 8,
      "metadata": {
        "id": "I_HEY2eiSsRq"
      },
      "outputs": [],
      "source": [
        "Wrho=C.transpose() @ W @ C        #Correlation matrix"
      ]
    },
    {
      "cell_type": "code",
      "execution_count": 9,
      "metadata": {
        "id": "dY3K7FU2S0al"
      },
      "outputs": [],
      "source": [
        "eigenvalues_rho = np.linalg.eigvals(Wrho)"
      ]
    },
    {
      "cell_type": "code",
      "execution_count": 10,
      "metadata": {
        "colab": {
          "base_uri": "https://localhost:8080/",
          "height": 730
        },
        "id": "1_txNeTtTftY",
        "outputId": "81a95b0c-49ab-431e-c4fa-761cdc271f2a"
      },
      "outputs": [
        {
          "output_type": "execute_result",
          "data": {
            "text/plain": [
              "(array([197., 234., 224., 210., 197., 182., 171., 162., 155., 146., 141.,\n",
              "        135., 129., 125., 120., 115., 113., 107., 106.,  99.,  99.,  96.,\n",
              "         91.,  93.,  87.,  85.,  84.,  81.,  78.,  78.,  77.,  74.,  72.,\n",
              "         69.,  66.,  66.,  67.,  63.,  61.,  60.,  60.,  58.,  55.,  56.,\n",
              "         52.,  53.,  51.,  49.,  49.,  47.,  46.,  46.,  43.,  43.,  41.,\n",
              "         40.,  39.,  38.,  36.,  35.,  36.,  31.,  34.,  30.,  30.,  29.,\n",
              "         27.,  27.,  25.,  24.,  22.,  21.,  20.,  18.,  17.,  14.,  14.,\n",
              "         13.,   8.,   7.]),\n",
              " array([0.00513101, 0.00898524, 0.01283946, 0.01669368, 0.0205479 ,\n",
              "        0.02440212, 0.02825634, 0.03211057, 0.03596479, 0.03981901,\n",
              "        0.04367323, 0.04752745, 0.05138168, 0.0552359 , 0.05909012,\n",
              "        0.06294434, 0.06679856, 0.07065278, 0.07450701, 0.07836123,\n",
              "        0.08221545, 0.08606967, 0.08992389, 0.09377812, 0.09763234,\n",
              "        0.10148656, 0.10534078, 0.109195  , 0.11304922, 0.11690345,\n",
              "        0.12075767, 0.12461189, 0.12846611, 0.13232033, 0.13617456,\n",
              "        0.14002878, 0.143883  , 0.14773722, 0.15159144, 0.15544566,\n",
              "        0.15929989, 0.16315411, 0.16700833, 0.17086255, 0.17471677,\n",
              "        0.17857099, 0.18242522, 0.18627944, 0.19013366, 0.19398788,\n",
              "        0.1978421 , 0.20169633, 0.20555055, 0.20940477, 0.21325899,\n",
              "        0.21711321, 0.22096743, 0.22482166, 0.22867588, 0.2325301 ,\n",
              "        0.23638432, 0.24023854, 0.24409277, 0.24794699, 0.25180121,\n",
              "        0.25565543, 0.25950965, 0.26336387, 0.2672181 , 0.27107232,\n",
              "        0.27492654, 0.27878076, 0.28263498, 0.28648921, 0.29034343,\n",
              "        0.29419765, 0.29805187, 0.30190609, 0.30576031, 0.30961454,\n",
              "        0.31346876]),\n",
              " <a list of 80 Patch objects>)"
            ]
          },
          "metadata": {},
          "execution_count": 10
        },
        {
          "output_type": "display_data",
          "data": {
            "text/plain": [
              "<Figure size 432x288 with 1 Axes>"
            ],
            "image/png": "[encoded data removed]"
          },
          "metadata": {
            "needs_background": "light"
          }
        }
      ],
      "source": [
        "plt.hist(eigenvalues_rho[1:], 80)"
      ]
    },
    {
      "cell_type": "code",
      "execution_count": 11,
      "metadata": {
        "colab": {
          "base_uri": "https://localhost:8080/",
          "height": 283
        },
        "id": "Poka1ETW8pIG",
        "outputId": "ad297d35-af78-4224-9465-9bf45145f2b4"
      },
      "outputs": [
        {
          "output_type": "stream",
          "name": "stderr",
          "text": [
            "WARNING:matplotlib.legend:No handles with labels found to put in legend.\n"
          ]
        },
        {
          "output_type": "display_data",
          "data": {
            "text/plain": [
              "<Figure size 432x288 with 1 Axes>"
            ],
            "image/png": "[encoded data removed]"
          },
          "metadata": {
            "needs_background": "light"
          }
        }
      ],
      "source": [
        "plt.hist( (1-rho1) * eigenvalues, 80, alpha=.8, edgecolor='red')\n",
        "plt.hist(eigenvalues_rho[1:], 80, alpha=.8, edgecolor='blue')\n",
        "plt.legend()\n",
        " \n",
        "# Showing the plot using plt.show()\n",
        "plt.show()"
      ]
    },
    {
      "cell_type": "markdown",
      "metadata": {
        "id": "DlOX4-cAEN60"
      },
      "source": [
        "We see that the highest eigenvalue has asymptotic $y*rho*n$\n",
        "\n",
        "---\n",
        "\n"
      ]
    },
    {
      "cell_type": "code",
      "execution_count": 12,
      "metadata": {
        "colab": {
          "base_uri": "https://localhost:8080/"
        },
        "id": "ULl1XhS9DQRZ",
        "outputId": "b2e28c48-857f-4810-945d-f4ca8e75460b"
      },
      "outputs": [
        {
          "output_type": "stream",
          "name": "stdout",
          "text": [
            "Check first eigenvalues asumptotic: 0.5351513949141717 0.535151394914172\n"
          ]
        }
      ],
      "source": [
        "u2, s2, vT2 = svds(Z @ C / np.sqrt(n), k=1)\n",
        "print('Check first eigenvalues asumptotic:',  eigenvalues_rho[0] / n, s2[0]**2 / n)"
      ]
    },
    {
      "cell_type": "markdown",
      "metadata": {
        "id": "_Zal_sZnEbA8"
      },
      "source": [
        "Now we suppose that there are 2 blocks: 30% corresponds to $\\rho=0.7$ and 70% corresponds to $\\rho=0$\n",
        "(We will demonstrate results of Th.2 now)"
      ]
    },
    {
      "cell_type": "code",
      "execution_count": 13,
      "metadata": {
        "colab": {
          "base_uri": "https://localhost:8080/"
        },
        "id": "QmjyeIkywYlp",
        "outputId": "0782fd35-47f5-451d-b2d3-b82b9aa4c1a0"
      },
      "outputs": [
        {
          "output_type": "stream",
          "name": "stdout",
          "text": [
            "[[1.  0.9 0.9 ... 0.9 0.9 0.9]\n",
            " [0.9 1.  0.9 ... 0.9 0.9 0.9]\n",
            " [0.9 0.9 1.  ... 0.9 0.9 0.9]\n",
            " ...\n",
            " [0.9 0.9 0.9 ... 1.  0.9 0.9]\n",
            " [0.9 0.9 0.9 ... 0.9 1.  0.9]\n",
            " [0.9 0.9 0.9 ... 0.9 0.9 1. ]]\n"
          ]
        }
      ],
      "source": [
        "block_coeff = 0.7\n",
        "n1 = int(block_coeff * p) # Number of assets in the first block\n",
        "y1 = n1 / n\n",
        "E_block = np.ones((n1, n1))\n",
        "b_block = (-np.sqrt(1 - rho1) - np.sqrt(1 + rho1 * (n1-1))) / n1\n",
        "C_block = np.sqrt(1 - rho1) * np.identity(n1) + E_block * b_block\n",
        "print(C_block @ C_block)\n",
        "\n"
      ]
    },
    {
      "cell_type": "code",
      "execution_count": 14,
      "metadata": {
        "colab": {
          "base_uri": "https://localhost:8080/"
        },
        "id": "Pn0lYB-3fHgY",
        "outputId": "92e295a7-0b14-445c-8c67-77196cc5edc6"
      },
      "outputs": [
        {
          "output_type": "stream",
          "name": "stdout",
          "text": [
            "[[1.  0.9 0.9 ... 0.  0.  0. ]\n",
            " [0.9 1.  0.9 ... 0.  0.  0. ]\n",
            " [0.9 0.9 1.  ... 0.  0.  0. ]\n",
            " ...\n",
            " [0.  0.  0.  ... 1.  0.7 0.7]\n",
            " [0.  0.  0.  ... 0.7 1.  0.7]\n",
            " [0.  0.  0.  ... 0.7 0.7 1. ]]\n"
          ]
        }
      ],
      "source": [
        "rho2 = 0.7\n",
        "n2 = p - n1    #number of assets in the second block\n",
        "E2_block = np.ones((n2, n2))\n",
        "b2_block = (-np.sqrt(1 - rho2) - np.sqrt(1 + rho2*(n2 - 1))) / n2\n",
        "C2_block = np.sqrt(1 - rho2) * np.identity(n2) + E2_block * b2_block\n",
        "\n",
        "B=np.identity(p)              \n",
        "for i in range(n1):\n",
        "  for j in range(n1):\n",
        "    B[i][j]=C_block[i][j]\n",
        "for i in range(n2):\n",
        "  for j in range(n2):\n",
        "    B[i+n1][j+n1]=C2_block[i][j]\n",
        "print(B @ B) # Check that B = SquareRoot(Sigma)\n"
      ]
    },
    {
      "cell_type": "code",
      "execution_count": 15,
      "metadata": {
        "colab": {
          "base_uri": "https://localhost:8080/"
        },
        "id": "09DV0QJ8pzsk",
        "outputId": "d7928ff5-8775-43ff-ca9d-2b166bad5298"
      },
      "outputs": [
        {
          "output_type": "stream",
          "name": "stdout",
          "text": [
            "[[1. 1. 1. ... 0. 0. 0.]\n",
            " [1. 1. 1. ... 0. 0. 0.]\n",
            " [1. 1. 1. ... 0. 0. 0.]\n",
            " ...\n",
            " [0. 0. 0. ... 0. 0. 0.]\n",
            " [0. 0. 0. ... 0. 0. 0.]\n",
            " [0. 0. 0. ... 0. 0. 0.]]\n"
          ]
        }
      ],
      "source": [
        "E1 = np.zeros((n,1))\n",
        "E2= np.zeros((n,1))\n",
        "for i in range(n1):\n",
        "  E1[i]=1\n",
        "for i in range(n2):\n",
        "  E2[n1+i]=1\n",
        "BM =  E1 @ E1.transpose()   \n",
        "print(BM)"
      ]
    },
    {
      "cell_type": "markdown",
      "metadata": {
        "id": "d67s4V7NtaOr"
      },
      "source": [
        "Construct matrix $X_2$ that contains squared variables"
      ]
    },
    {
      "cell_type": "code",
      "execution_count": 16,
      "metadata": {
        "id": "oCULUxz_Few4"
      },
      "outputs": [],
      "source": [
        "X = Z @ B\n",
        "X2 = X * X - 1\n"
      ]
    },
    {
      "cell_type": "code",
      "execution_count": 17,
      "metadata": {
        "id": "j5DQvMlNh32s"
      },
      "outputs": [],
      "source": [
        "ub, lambda1, vb = svds(X / np.sqrt(n), k=2)"
      ]
    },
    {
      "cell_type": "code",
      "execution_count": 18,
      "metadata": {
        "id": "MS0Ur7NCRRY2"
      },
      "outputs": [],
      "source": [
        "ub2, lambda2, vb2 = svds(X2 / np.sqrt(n), k=2)"
      ]
    },
    {
      "cell_type": "code",
      "execution_count": 19,
      "metadata": {
        "colab": {
          "base_uri": "https://localhost:8080/"
        },
        "id": "b2OJD76jRfcN",
        "outputId": "d2c92018-df5f-4ebd-f237-b218bfcdec83"
      },
      "outputs": [
        {
          "output_type": "stream",
          "name": "stdout",
          "text": [
            "Estimated values of rho 0.7268972272367288 0.8697493330106861\n",
            "true values of rho 0.9 0.7\n"
          ]
        }
      ],
      "source": [
        "rho_estim0 = lambda2[0]**2 / lambda1[0]**2 / 2\n",
        "rho_estim1 = lambda2[1]**2 / lambda1[1]**2 / 2\n",
        "print('Estimated values of rho', rho_estim0, rho_estim1)\n",
        "print('true values of rho', rho1, rho2)"
      ]
    },
    {
      "cell_type": "code",
      "execution_count": 20,
      "metadata": {
        "colab": {
          "base_uri": "https://localhost:8080/"
        },
        "id": "YqEAkeCKSTTe",
        "outputId": "5986f017-00a5-4c71-c04e-4d516275135d"
      },
      "outputs": [
        {
          "output_type": "stream",
          "name": "stdout",
          "text": [
            "Estimated value of the block size 1760.991220570641 4202.051371208241\n"
          ]
        }
      ],
      "source": [
        "print('Estimated value of the block size', lambda1[0]**2 / rho_estim0, lambda1[1]**2 / rho_estim1)"
      ]
    },
    {
      "cell_type": "code",
      "execution_count": 21,
      "metadata": {
        "colab": {
          "base_uri": "https://localhost:8080/"
        },
        "id": "ElRjUXBOxt4m",
        "outputId": "8f880259-c01e-48c7-a512-59129c1ac1fd"
      },
      "outputs": [
        {
          "output_type": "stream",
          "name": "stdout",
          "text": [
            "original block sizes 4200 1800\n"
          ]
        }
      ],
      "source": [
        "print('original block sizes', n1, n2)"
      ]
    },
    {
      "cell_type": "markdown",
      "metadata": {
        "id": "GicEneWIdqj2"
      },
      "source": [
        "Case of nonttrivial Interblock interaction"
      ]
    },
    {
      "cell_type": "code",
      "execution_count": 22,
      "metadata": {
        "id": "zJ9wu9WZfNS0"
      },
      "outputs": [],
      "source": [
        "gamma=0.35\n"
      ]
    },
    {
      "cell_type": "code",
      "execution_count": 23,
      "metadata": {
        "colab": {
          "base_uri": "https://localhost:8080/"
        },
        "id": "XqRH8Y9pfQmS",
        "outputId": "12e622a9-c03c-4c23-ccd8-7f04c9839908"
      },
      "outputs": [
        {
          "output_type": "stream",
          "name": "stdout",
          "text": [
            "[[1.   0.9  0.9  ... 0.35 0.35 0.35]\n",
            " [0.9  1.   0.9  ... 0.35 0.35 0.35]\n",
            " [0.9  0.9  1.   ... 0.35 0.35 0.35]\n",
            " ...\n",
            " [0.35 0.35 0.35 ... 1.   0.7  0.7 ]\n",
            " [0.35 0.35 0.35 ... 0.7  1.   0.7 ]\n",
            " [0.35 0.35 0.35 ... 0.7  0.7  1.  ]]\n"
          ]
        }
      ],
      "source": [
        "B2 = B @ B\n",
        "for i in range(n1):\n",
        "  for j in range(n2):\n",
        "    B2[i][j+n1]=gamma\n",
        "    B2[j+n1][i]=gamma\n",
        "\n",
        "B=np.linalg.cholesky(B2)\n",
        "print(B @ B.transpose())"
      ]
    },
    {
      "cell_type": "code",
      "execution_count": 24,
      "metadata": {
        "id": "pyXAgV2Gh4wl"
      },
      "outputs": [],
      "source": [
        "Z = np.random.randn(n,p)\n",
        "X = Z @ B.transpose()\n",
        "X2 = X * X - 1\n",
        "X3 = X * X * X - 3 * X \n",
        "u, s, v = svds(X / np.sqrt(n), k=2)\n",
        "u2, s2, v2 = svds(X2 / np.sqrt(n), k=2)\n",
        "u3, s3, v3 = svds(X3 / np.sqrt(n), k=2)"
      ]
    },
    {
      "cell_type": "markdown",
      "metadata": {
        "id": "QZl-rnQrdxpl"
      },
      "source": [
        "Plot graph (method W3):"
      ]
    },
    {
      "cell_type": "code",
      "execution_count": null,
      "metadata": {
        "id": "0paayBaCYyhY"
      },
      "outputs": [],
      "source": [
        "list_rhos11 = []\n",
        "list_rhos22 = []\n",
        "list_rhos12 = []\n",
        "list_y1 = []\n",
        "list_y2 = []\n",
        "plot_size = 100\n",
        "for i in range (plot_size):\n",
        "  Z = np.random.randn(n,p)\n",
        "  X = Z @ B.transpose()\n",
        "  X3 = X * X * X - 3 * X \n",
        "  u3, s3, v3 = svds(X3 / np.sqrt(n), k=2)\n",
        "  rho1y1=(X @ v3[1]).transpose() @ (X @ v3[1])/n/n\n",
        "  rho2y2=(X @ v3[0]).transpose() @ (X @ v3[0])/n/n\n",
        "  rho12sqrty1sqrty2=(X @ v3[1]).transpose() @ (X @ v3[0])/n/n\n",
        "  rho1_estimated=(s3[1]**2 / n / rho1y1 / 6)**0.5\n",
        "  rho2_estimated=(s3[0]**2 / n / rho2y2 / 6)**0.5\n",
        "  y1_estimated= rho1y1 / rho1_estimated\n",
        "  y2_estimated= rho2y2 / rho2_estimated\n",
        "  rho12_estimated = rho12sqrty1sqrty2 / np.sqrt(y1_estimated * y2_estimated)\n",
        "  list_rhos11.append(rho1_estimated)\n",
        "  list_rhos22.append(rho2_estimated)\n",
        "  list_rhos12.append(rho12_estimated)\n",
        "  list_y1.append(y1_estimated)\n",
        "  list_y2.append(y2_estimated)\n",
        "  print(rho1_estimated,rho2_estimated, rho12_estimated, y1_estimated, y2_estimated)\n"
      ]
    },
    {
      "cell_type": "code",
      "execution_count": null,
      "metadata": {
        "id": "LTaWz5inEa8F"
      },
      "outputs": [],
      "source": [
        "yy=np.ones(plot_size)\n",
        "print('mean (measured vs theor)',np.mean(list_rhos11), rho1)\n",
        "print('std',np.std(list_rhos11))\n",
        "print('mean (measured vs theor)',np.mean(list_rhos22), rho2)\n",
        "print('std',np.std(list_rhos22))\n",
        "print('mean (measured vs theor)',np.mean(np.abs(list_rhos12)), gamma)\n",
        "print('std',np.std(np.abs(list_rhos12)))\n",
        "print('mean (measured vs theor)',np.mean(list_y1), y1)\n",
        "print('std',np.std(list_y1))\n",
        "#plt.scatter(list1,yy)\n",
        "print('mean (measured vs theor)',np.mean(list_y2), n2/n)\n",
        "print('std',np.std(list_y2))"
      ]
    },
    {
      "cell_type": "markdown",
      "metadata": {
        "id": "uVZqEnH2d7CI"
      },
      "source": [
        "Plot graph (method W4):"
      ]
    },
    {
      "cell_type": "code",
      "execution_count": null,
      "metadata": {
        "id": "evd5_yDADxRH"
      },
      "outputs": [],
      "source": [
        "list4_rhos11 = []\n",
        "list4_rhos22 = []\n",
        "list4_rhos12 = []\n",
        "list4_y1 = []\n",
        "list4_y2 = []\n",
        "plot_size4 = 100\n",
        "for i in range (plot_size4):\n",
        "  Z = np.random.randn(n,p)\n",
        "  X = Z @ B.transpose()\n",
        "  alpha4=-6\n",
        "  X4 = X * X * X * X + alpha4 * X * X - (3+alpha4) \n",
        "  u4, s4, v4 = svds(X4 / np.sqrt(n), k=2)\n",
        "\n",
        "  qrho1y1=(X @ v4[1]).transpose() @ (X @ v4[1])/n/n\n",
        "  qrho2y2=(X @ v4[0]).transpose() @ (X @ v4[0])/n/n\n",
        "  \n",
        "  qrho12sqrty1sqrty2=(X @ v4[1]).transpose() @ (X @ v4[0])/n/n\n",
        "  qrho1_estimated = (s4[1]**2/ n /qrho1y1 / 24)**(1./3)\n",
        "  qrho2_estimated = (s4[0]**2/ n /qrho2y2 / 24)**(1./3)\n",
        "  \n",
        "  qy1_estimated= qrho1y1 / qrho1_estimated\n",
        "  qy2_estimated= qrho2y2 / qrho2_estimated\n",
        "  qrho12_estimated = qrho12sqrty1sqrty2 / np.sqrt(qy1_estimated * qy2_estimated)\n",
        "  \n",
        "  list4_rhos11.append(qrho1_estimated)\n",
        "  list4_rhos22.append(qrho2_estimated)\n",
        "  list4_rhos12.append(qrho12_estimated)\n",
        "  list4_y1.append(qy1_estimated)\n",
        "  list4_y1.append(qy2_estimated)\n",
        "  print(qrho1_estimated,qrho2_estimated, qrho12_estimated, qy1_estimated, qy2_estimated)"
      ]
    },
    {
      "cell_type": "code",
      "execution_count": null,
      "metadata": {
        "id": "WRa0N2SkbrMp"
      },
      "outputs": [],
      "source": [
        "print('mean (measured vs theor)',np.mean(list4_rhos11), rho1)\n",
        "print('std',np.std(list4_rhos11))\n",
        "print('mean (measured vs theor)',np.mean(list4_rhos22), rho2)\n",
        "print('std',np.std(list4_rhos22))\n",
        "print('mean (measured vs theor)',np.mean(np.abs(list4_rhos12)), gamma)\n",
        "print('std',np.std(np.abs(list4_rhos12)))\n",
        "print('mean (measured vs theor)',np.mean(list4_y1), y1)\n",
        "print('std',np.std(list4_y1))\n",
        "print('mean (measured vs theor)',np.mean(list4_y2), n2/n)\n",
        "print('std',np.std(list4_y2))"
      ]
    }
  ],
  "metadata": {
    "colab": {
      "collapsed_sections": [],
      "provenance": []
    },
    "kernelspec": {
      "display_name": "Python 3",
      "name": "python3"
    },
    "language_info": {
      "name": "python"
    }
  },
  "nbformat": 4,
  "nbformat_minor": 0
}